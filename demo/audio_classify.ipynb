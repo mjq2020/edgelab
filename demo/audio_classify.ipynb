{
 "cells": [
  {
   "cell_type": "markdown",
   "metadata": {},
   "source": [
    "## 环境配置\n",
    "1. 下载[edgelab](https://github.com/mjq2020/edgelab)仓库代码\n",
    "2. 运行环境配置脚本\n"
   ]
  },
  {
   "cell_type": "code",
   "execution_count": null,
   "metadata": {},
   "outputs": [],
   "source": [
    "%cd ~\n",
    "!git clone https://github.com/mjq2020/edgelab\n",
    "%cd edgelab"
   ]
  },
  {
   "cell_type": "code",
   "execution_count": null,
   "metadata": {},
   "outputs": [],
   "source": [
    "!python tools/env_config.py\n",
    "import os\n",
    "os.environ['PYTHONPATH'] = '~/edgelab'\n",
    "!nvidia-smi"
   ]
  },
  {
   "cell_type": "markdown",
   "metadata": {},
   "source": [
    "## 模型训练\n",
    "1. 运行train.py,设置任务类别、配置文件路径、等"
   ]
  },
  {
   "cell_type": "code",
   "execution_count": null,
   "metadata": {},
   "outputs": [],
   "source": [
    "!~/anaconda3/envs/edgelab/bin/python tools/train.py mmcls configs/audio_classify/ali_classiyf_small_8k_8192.py  --cfg-options runner.max_epochs=10"
   ]
  },
  {
   "cell_type": "markdown",
   "metadata": {},
   "source": [
    "## 导出ONNX\n",
    "1. 使用torch2onnx.py转换刚才完成训练的权重文件\n",
    "2. onnx文件生成位置位于原权重文件相同位置(后缀.onnx)"
   ]
  },
  {
   "cell_type": "code",
   "execution_count": null,
   "metadata": {},
   "outputs": [],
   "source": [
    "!~/anaconda3/envs/edgelab/bin/python tools/torch2onnx.py --config configs/audio_classify/ali_classiyf_small_8k_8192.py --checkpoint work_dirs/exp1/latest.pth --task mmcls"
   ]
  },
  {
   "cell_type": "markdown",
   "metadata": {},
   "source": [
    "## onnx转ncnn及量化\n",
    "1. 使用export_quantize.py脚本将生成的onnx文件转为ncnn或进行量化\n",
    "2. "
   ]
  },
  {
   "cell_type": "code",
   "execution_count": null,
   "metadata": {},
   "outputs": [],
   "source": [
    "!~/anaconda3/envs/edgelab/bin/python tools/export_quantize.py --onnx work_dirs/exp1/latest.onnx --type ncnn"
   ]
  }
 ],
 "metadata": {
  "kernelspec": {
   "display_name": "Python 3.8.13 ('mmset')",
   "language": "python",
   "name": "python3"
  },
  "language_info": {
   "codemirror_mode": {
    "name": "ipython",
    "version": 3
   },
   "file_extension": ".py",
   "mimetype": "text/x-python",
   "name": "python",
   "nbconvert_exporter": "python",
   "pygments_lexer": "ipython3",
   "version": "3.8.15"
  },
  "orig_nbformat": 4,
  "vscode": {
   "interpreter": {
    "hash": "4371667da6ad0a80396cd63c529a9936708aaf3de3d23ccc7c4ed575a0b05f73"
   }
  }
 },
 "nbformat": 4,
 "nbformat_minor": 2
}
