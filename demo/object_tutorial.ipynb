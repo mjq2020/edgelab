{
 "cells": [
  {
   "cell_type": "markdown",
   "metadata": {},
   "source": [
    "# 目标检测使用教程\n",
    "本教程教你如何使训练目标检测模型，并使用默认的数据集Pascal Voc数据集，以及模型如何导出其他格式。\n",
    "1. 下载仓库\n",
    "2. 模型训练\n",
    "3. 模型导出onnx，ncnn格式"
   ]
  },
  {
   "cell_type": "markdown",
   "metadata": {},
   "source": [
    "## 仓库下载及环境配置\n",
    "关于环境配置在仓库下载后可运行内置的环境配置脚本，可一键安装所需依赖并建立虚拟环境。\n"
   ]
  },
  {
   "cell_type": "code",
   "execution_count": null,
   "metadata": {},
   "outputs": [],
   "source": [
    "!git clone https://github.com/Seeed-Studio/Edgelab\n",
    "%cd edgelab\n",
    "!python tools/env_config.py"
   ]
  },
  {
   "cell_type": "markdown",
   "metadata": {},
   "source": [
    "## 模型训练\n",
    "对于模型训练，因为使用的是公开的数据集Pascal voc，所以在不修改配置文件的情况下，程序会自动下载相关数据用户无需手动下载。\n",
    "模型训练是非常简单的，只需一行命令即可完成："
   ]
  },
  {
   "cell_type": "code",
   "execution_count": null,
   "metadata": {},
   "outputs": [],
   "source": [
    "!python tools/train.py mmdet configs/yolo/yolov3_mbv2_416_coco.py"
   ]
  },
  {
   "cell_type": "markdown",
   "metadata": {},
   "source": [
    "## 模型导出onnx，ncnn格式\n",
    "在从pth导出到onnx会有一个专用的脚本导出，而导出ncnn只能使用另一个转换脚本从onnx转到ncnn，所以想要ncnn格式的模型权重，需要先将模型从pth转到onnx。\n",
    "对于onnx的导出很简单，只需一行命令即可："
   ]
  },
  {
   "cell_type": "code",
   "execution_count": null,
   "metadata": {},
   "outputs": [],
   "source": [
    "!python tools/torch2onnx.py mmdet configs/yolo/yolov3_mbv2_416_coco.py --checkpoint work_dir/yolov3_mbv2_416_coco/exp1/latest.pth --shape 416"
   ]
  },
  {
   "cell_type": "markdown",
   "metadata": {},
   "source": [
    "在上面命令运行完成后，会在`work_dir/yolov3_mbv2_416_coco/exp1`文件夹下产生对应的onnx文件(`latest.onnx`)。此时有了这个文件后我们可以导出ncnn或者其他操作，例如量化："
   ]
  },
  {
   "cell_type": "code",
   "execution_count": null,
   "metadata": {},
   "outputs": [],
   "source": [
    "!python tools/export_quantize.py --onnx work_dir/yolov3_mbv2_416_coco/exp1/latest.onnx --type ncnn"
   ]
  },
  {
   "cell_type": "markdown",
   "metadata": {},
   "source": [
    "这时候同样会在`work_dir/yolov3_mbv2_416_coco/exp1`文件夹下产生对应的ncnn的模型表示文件(`latest.bin`和`latest.param`)。"
   ]
  }
 ],
 "metadata": {
  "kernelspec": {
   "display_name": "Python 3.8.13 ('mmset')",
   "language": "python",
   "name": "python3"
  },
  "language_info": {
   "name": "python",
   "version": "3.8.13"
  },
  "orig_nbformat": 4,
  "vscode": {
   "interpreter": {
    "hash": "4371667da6ad0a80396cd63c529a9936708aaf3de3d23ccc7c4ed575a0b05f73"
   }
  }
 },
 "nbformat": 4,
 "nbformat_minor": 2
}
